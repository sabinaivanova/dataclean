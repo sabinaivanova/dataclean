{
 "cells": [
  {
   "cell_type": "markdown",
   "metadata": {},
   "source": [
    "IMPORT PYTHON PACKAGES"
   ]
  },
  {
   "cell_type": "code",
   "execution_count": null,
   "metadata": {},
   "outputs": [],
   "source": [
    "import pandas as pd\n",
    "import numpy as np\n",
    "import seaborn as sns\n",
    "\n",
    "import matplotlib.pyplot as plt\n",
    "import matplotlib.mlab as mlab\n",
    "import matplotlib\n",
    "plt.style.use('ggplot')\n",
    "from matplotlib.pyplot import figure\n",
    "\n",
    "%matplotlib inline\n",
    "matplotlib.rcParams['figure.figsize'] = (12,8)\n",
    "\n",
    "pd.options.mode.chained_assignment = None"
   ]
  },
  {
   "cell_type": "markdown",
   "metadata": {},
   "source": [
    "IMPORT DATA"
   ]
  },
  {
   "cell_type": "code",
   "execution_count": null,
   "metadata": {},
   "outputs": [],
   "source": [
    "inputFile = r\"C:\\Users\\Sabina\\Desktop\\nuvei\\OP_DTL_OWNRSHP_PGYR2019_P06302020.csv\"\n",
    "inputFile2 = r\"C:\\Users\\Sabina\\Desktop\\nuvei\\OP_DTL_OWNRSHP_PGYR2019_P06302020 - Copy.csv\"\n",
    "df = pd.read_csv(inputFile)\n",
    "df2 = pd.read_csv(inputFile2)"
   ]
  },
  {
   "cell_type": "markdown",
   "metadata": {},
   "source": [
    "DATA SHAPE"
   ]
  },
  {
   "cell_type": "code",
   "execution_count": null,
   "metadata": {},
   "outputs": [],
   "source": [
    "print(df.shape)\n",
    "print(df.dtypes)"
   ]
  },
  {
   "cell_type": "markdown",
   "metadata": {},
   "source": [
    "SELECT NUMERIC COLUMNS"
   ]
  },
  {
   "cell_type": "code",
   "execution_count": null,
   "metadata": {},
   "outputs": [],
   "source": [
    "dfNumeric = df.select_dtypes(include = [np.number])\n",
    "numCols = dfNumeric.columns.values\n",
    "print(numCols)"
   ]
  },
  {
   "cell_type": "markdown",
   "metadata": {},
   "source": [
    "SELECT NON-NUMERIC COLUMNS"
   ]
  },
  {
   "cell_type": "code",
   "execution_count": null,
   "metadata": {},
   "outputs": [],
   "source": [
    "dfNonNumeric = df.select_dtypes(exclude = [np.number])\n",
    "nonNumCols = dfNonNumeric.columns.values\n",
    "print(nonNumCols)"
   ]
  },
  {
   "cell_type": "markdown",
   "metadata": {},
   "source": [
    "DETECT MISSING DATA"
   ]
  },
  {
   "cell_type": "markdown",
   "metadata": {},
   "source": [
    "Screen columns in a sheet"
   ]
  },
  {
   "cell_type": "code",
   "execution_count": null,
   "metadata": {},
   "outputs": [],
   "source": [
    "for col in df.columns:\n",
    "    pctMissing = np.mean(df[col].isnull())\n",
    "    print('{} - {}%'.format(col, round(pctMissing*100)))"
   ]
  },
  {
   "cell_type": "markdown",
   "metadata": {},
   "source": [
    "Compare columns in two sheets"
   ]
  },
  {
   "cell_type": "code",
   "execution_count": null,
   "metadata": {},
   "outputs": [],
   "source": [
    "missingIds = np.isin(df['Physician_Profile_ID'], df2['Physician_Profile_ID'], invert = True).sum()\n",
    "print('Missing physician profile IDs in original document: {}'.format(missingIds))"
   ]
  },
  {
   "cell_type": "markdown",
   "metadata": {},
   "source": [
    "DETECT IRREGULAR DATA"
   ]
  },
  {
   "cell_type": "code",
   "execution_count": null,
   "metadata": {},
   "outputs": [],
   "source": [
    "df['Total_Amount_Invested_USDollars'].hist(bins = 100)"
   ]
  },
  {
   "cell_type": "code",
   "execution_count": null,
   "metadata": {},
   "outputs": [],
   "source": [
    "df['Total_Amount_Invested_USDollars'].describe()"
   ]
  },
  {
   "cell_type": "markdown",
   "metadata": {},
   "source": [
    "DELETE DUPLICATE ENTRIES"
   ]
  },
  {
   "cell_type": "code",
   "execution_count": null,
   "metadata": {},
   "outputs": [],
   "source": [
    "dfDedup = df.drop_duplicates()\n",
    "print(df.shape)\n",
    "print(dfDedup.shape)"
   ]
  },
  {
   "cell_type": "code",
   "execution_count": null,
   "metadata": {},
   "outputs": [],
   "source": [
    "criticalEntries = ['Record_ID', 'Program_Year', 'Total_Amount_Invested_USDollars', 'Value_of_Interest']\n",
    "dfDedup2 = df.drop_duplicates(subset = criticalEntries)\n",
    "print(df.shape)\n",
    "print(dfDedup2.shape)"
   ]
  },
  {
   "cell_type": "markdown",
   "metadata": {},
   "source": [
    "DETECT INCONSISTENT DATA"
   ]
  },
  {
   "cell_type": "markdown",
   "metadata": {},
   "source": [
    "Capital Letters"
   ]
  },
  {
   "cell_type": "code",
   "execution_count": null,
   "metadata": {},
   "outputs": [],
   "source": [
    "df['Physician_First_Name']"
   ]
  },
  {
   "cell_type": "code",
   "execution_count": null,
   "metadata": {},
   "outputs": [],
   "source": [
    "df['Physician_First_Name1'] = df['Physician_First_Name'].str.capitalize()"
   ]
  },
  {
   "cell_type": "code",
   "execution_count": null,
   "metadata": {},
   "outputs": [],
   "source": [
    "df['Physician_First_Name1']"
   ]
  },
  {
   "cell_type": "markdown",
   "metadata": {},
   "source": [
    "Formats"
   ]
  },
  {
   "cell_type": "code",
   "execution_count": null,
   "metadata": {},
   "outputs": [],
   "source": [
    "df['Payment_Publication_Date']"
   ]
  },
  {
   "cell_type": "code",
   "execution_count": null,
   "metadata": {},
   "outputs": [],
   "source": [
    "df['Payment_Publication_Date1'] = pd.to_datetime(df['Payment_Publication_Date'], dayfirst = True)\n",
    "df['year'] = df['Payment_Publication_Date1'].dt.year\n",
    "df['month'] = df['Payment_Publication_Date1'].dt.month\n",
    "df['weekday'] = df['Payment_Publication_Date1'].dt.weekday"
   ]
  },
  {
   "cell_type": "code",
   "execution_count": null,
   "metadata": {},
   "outputs": [],
   "source": [
    "df['year']"
   ]
  },
  {
   "cell_type": "markdown",
   "metadata": {},
   "source": [
    "Wording and Fuzzy Matches"
   ]
  },
  {
   "cell_type": "code",
   "execution_count": null,
   "metadata": {},
   "outputs": [],
   "source": [
    "from fuzzywuzzy import process, fuzz\n",
    "\n",
    "listSource = [\n",
    "'Matthew-Ross-1983',\n",
    "'John-Alverdy-1972',\n",
    "'Peter_Donovan-1933',\n",
    "'Steve-Addams-1961'\n",
    "]\n",
    "\n",
    "listDatabase = [\n",
    "'Matthew-Ross-1982',\n",
    "'John-Alverdy-1972',\n",
    "'Peter-Donnovan-1933',\n",
    "'Steve-J-Adams-1954'\n",
    "]\n",
    "\n",
    "\n",
    "for name in listSource:\n",
    "    ratio = process.extractOne(name, listDatabase)\n",
    "    print({'Name': name, \"Match\": ratio})\n"
   ]
  },
  {
   "cell_type": "markdown",
   "metadata": {},
   "source": [
    "PLOT DATA"
   ]
  },
  {
   "cell_type": "code",
   "execution_count": null,
   "metadata": {},
   "outputs": [],
   "source": [
    "df['Interest_Held_by_Physician_or_an_Immediate_Family_Member'].value_counts().plot(kind = 'bar', subplots = True)"
   ]
  },
  {
   "cell_type": "code",
   "execution_count": null,
   "metadata": {},
   "outputs": [],
   "source": [
    "df['Applicable_Manufacturer_or_Applicable_GPO_Making_Payment_Name'].value_counts().head(10).plot(kind = 'bar', subplots = True)"
   ]
  },
  {
   "cell_type": "code",
   "execution_count": null,
   "metadata": {},
   "outputs": [],
   "source": [
    "df['Recipient_Zip_Code'].value_counts().head(20).plot(kind = 'bar', subplots = True)"
   ]
  }
 ],
 "metadata": {
  "kernelspec": {
   "display_name": "Python 3",
   "language": "python",
   "name": "python3"
  },
  "language_info": {
   "codemirror_mode": {
    "name": "ipython",
    "version": 3
   },
   "file_extension": ".py",
   "mimetype": "text/x-python",
   "name": "python",
   "nbconvert_exporter": "python",
   "pygments_lexer": "ipython3",
   "version": "3.7.6"
  }
 },
 "nbformat": 4,
 "nbformat_minor": 4
}
